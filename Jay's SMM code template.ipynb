{
 "cells": [
  {
   "cell_type": "code",
   "execution_count": 1,
   "metadata": {},
   "outputs": [
    {
     "name": "stdout",
     "output_type": "stream",
     "text": [
      "Collecting python-twitter\n",
      "  Downloading python-twitter-3.3.tar.gz (84kB)\n",
      "Collecting future (from python-twitter)\n",
      "  Downloading future-0.16.0.tar.gz (824kB)\n",
      "Requirement already satisfied: requests in c:\\users\\jay\\anaconda3\\lib\\site-packages (from python-twitter)\n",
      "Collecting requests-oauthlib (from python-twitter)\n",
      "  Downloading requests_oauthlib-0.8.0-py2.py3-none-any.whl\n",
      "Collecting oauthlib>=0.6.2 (from requests-oauthlib->python-twitter)\n",
      "  Downloading oauthlib-2.0.6.tar.gz (127kB)\n",
      "Building wheels for collected packages: python-twitter, future, oauthlib\n",
      "  Running setup.py bdist_wheel for python-twitter: started\n",
      "  Running setup.py bdist_wheel for python-twitter: finished with status 'done'\n",
      "  Stored in directory: C:\\Users\\Jay\\AppData\\Local\\pip\\Cache\\wheels\\09\\5e\\2d\\51778487f351ce64b0db5d8275dacb5d0b1590a843f6eef630\n",
      "  Running setup.py bdist_wheel for future: started\n",
      "  Running setup.py bdist_wheel for future: finished with status 'done'\n",
      "  Stored in directory: C:\\Users\\Jay\\AppData\\Local\\pip\\Cache\\wheels\\c2\\50\\7c\\0d83b4baac4f63ff7a765bd16390d2ab43c93587fac9d6017a\n",
      "  Running setup.py bdist_wheel for oauthlib: started\n",
      "  Running setup.py bdist_wheel for oauthlib: finished with status 'done'\n",
      "  Stored in directory: C:\\Users\\Jay\\AppData\\Local\\pip\\Cache\\wheels\\e5\\46\\f7\\bb2fde81726295a13a71e3c6396d362ab408921c6562d6efc0\n",
      "Successfully built python-twitter future oauthlib\n",
      "Installing collected packages: future, oauthlib, requests-oauthlib, python-twitter\n",
      "Successfully installed future-0.16.0 oauthlib-2.0.6 python-twitter-3.3 requests-oauthlib-0.8.0\n"
     ]
    }
   ],
   "source": [
    "#Install packages\n",
    "\n",
    "!pip install python-twitter\n",
    "\n"
   ]
  },
  {
   "cell_type": "code",
   "execution_count": 2,
   "metadata": {
    "collapsed": true
   },
   "outputs": [],
   "source": [
    "# Import packages\n",
    "\n",
    "import pandas as pd\n",
    "import numpy as np\n",
    "import twitter"
   ]
  },
  {
   "cell_type": "code",
   "execution_count": 9,
   "metadata": {},
   "outputs": [],
   "source": [
    "api = twitter.Api(consumer_key = 'FP94BfUftKeygulmcLcVqRNvX',\n",
    "                 consumer_secret = 'GfZtNuk6Zu6lTOYGWibXI95MjMyks6SSlBEykyLuYe4NEUgGUu',\n",
    "                 access_token_key = '961088185756393472-FopLzpw7n3CrHhbHoWv8BlnR1mZwhGH',\n",
    "                 access_token_secret= '62Trp0LVEPvAwoGPH4ov8D4TQe2eEaQETKIfXKCPZX6NN')\n"
   ]
  },
  {
   "cell_type": "code",
   "execution_count": 10,
   "metadata": {},
   "outputs": [
    {
     "name": "stdout",
     "output_type": "stream",
     "text": [
      "{\"created_at\": \"Wed Feb 07 04:04:14 +0000 2018\", \"default_profile\": true, \"default_profile_image\": true, \"id\": 961088185756393472, \"lang\": \"en\", \"name\": \"IUSMM2018\", \"profile_background_color\": \"F5F8FA\", \"profile_image_url\": \"http://abs.twimg.com/sticky/default_profile_images/default_profile_normal.png\", \"profile_link_color\": \"1DA1F2\", \"profile_sidebar_fill_color\": \"DDEEF6\", \"profile_text_color\": \"333333\", \"screen_name\": \"iusmm2018\"}\n"
     ]
    }
   ],
   "source": [
    "print(api.VerifyCredentials())"
   ]
  },
  {
   "cell_type": "code",
   "execution_count": 12,
   "metadata": {},
   "outputs": [
    {
     "name": "stdout",
     "output_type": "stream",
     "text": [
      "Fetched: 100 tweets with the term #Harvey!!\n"
     ]
    }
   ],
   "source": [
    "# create function to accept search term and tehn fetch the tweets for that term\n",
    "\n",
    "def TestData(search_string):\n",
    "    try:\n",
    "        tweets_fetched = api.GetSearch(search_string, count=100)\n",
    "        print(\"Fetched: \"+str(len(tweets_fetched))+\" tweets with the term \"+search_string+\"!!\")\n",
    "        return [{\"text\":status.text, \"label\":None} for status in tweets_fetched]        \n",
    "    except:\n",
    "        print(\"fetch_error: please check\")\n",
    "        return None\n",
    "              \n",
    "\n",
    "testData = TestData(\"#Harvey\")\n",
    "              "
   ]
  },
  {
   "cell_type": "code",
   "execution_count": 13,
   "metadata": {},
   "outputs": [
    {
     "data": {
      "text/plain": [
       "[{'label': None,\n",
       "  'text': \"On Oct. 30, 2017, George P. Bush's agency signed a $13.47 million contract with Horne LLP for #Harvey disaster reco… https://t.co/c1EyOjTVbM\"},\n",
       " {'label': None,\n",
       "  'text': '#Harvey was a tropical storm when it flooded Houston. Not a hurricane. https://t.co/DKlzgxgr6E'},\n",
       " {'label': None,\n",
       "  'text': \"11K+ volunteers have worked w/@SamaritansPurse in TX since the hurricane! I'm thankful for them &amp; the encouragement… https://t.co/8zRGTO6mUJ\"},\n",
       " {'label': None,\n",
       "  'text': \"RT @keepcalmandunw1: #Harvey's Law - Hope for change. https://t.co/VbyHq591TV\"},\n",
       " {'label': None,\n",
       "  'text': 'RT @DonnaWR8: .@POTUS #TRUMP🇺🇸 &amp; @FLOTUS🌺\\n\\nWhen ALL seemed HOPELESS...YOU brought HOPE!\\n\\nYou INSPIRE us ALL!\\n\\n#MAGA #Harvey @Scavino45 #USA…'},\n",
       " {'label': None,\n",
       "  'text': 'This #job might be a great fit for you: Baker - Night - https://t.co/bAufdYod0F #parttime #bakery #bakery #Harvey,… https://t.co/krgb9k5f6i'},\n",
       " {'label': None,\n",
       "  'text': 'Asi las cosas a 5 meses  del paso del Huracan #Harvey, la Comunidad de River Oaks  en Conroe  aun necesita ayuda.... https://t.co/BUSMhPQBiB'},\n",
       " {'label': None,\n",
       "  'text': 'RT @DonnaWR8: .@POTUS #TRUMP🇺🇸 &amp; @FLOTUS🌺\\n\\nWhen ALL seemed HOPELESS...YOU brought HOPE!\\n\\nYou INSPIRE us ALL!\\n\\n#MAGA #Harvey @Scavino45 #USA…'},\n",
       " {'label': None,\n",
       "  'text': 'RT @DonnaWR8: .@POTUS #TRUMP🇺🇸 &amp; @FLOTUS🌺\\n\\nWhen ALL seemed HOPELESS...YOU brought HOPE!\\n\\nYou INSPIRE us ALL!\\n\\n#MAGA #Harvey @Scavino45 #USA…'}]"
      ]
     },
     "execution_count": 13,
     "metadata": {},
     "output_type": "execute_result"
    }
   ],
   "source": [
    "testData[0:9]"
   ]
  },
  {
   "cell_type": "code",
   "execution_count": null,
   "metadata": {
    "collapsed": true
   },
   "outputs": [],
   "source": [
    "# Step 2:  To manually annotate the downloaded tweets based on relief terms in the tweets and/or write a function to create a corpus to use as training data.  "
   ]
  },
  {
   "cell_type": "code",
   "execution_count": null,
   "metadata": {
    "collapsed": true
   },
   "outputs": [],
   "source": [
    "# Step 3:  Pre-process the Tweets\n",
    "\n",
    "# Step 3a : Convert to lower case\n",
    "\n",
    "# Step 3b : Replace links with sring 'URL'\n",
    "\n",
    "# Step 3c : Replace @...with 'at_user'\n",
    "\n",
    "# Step 3d : Remove stopwords\n",
    "\n",
    "# Step 3e : Tokenize the tweets into words\n",
    "\n",
    "\n",
    "\n"
   ]
  },
  {
   "cell_type": "code",
   "execution_count": null,
   "metadata": {
    "collapsed": true
   },
   "outputs": [],
   "source": [
    "# Step 4: Extract features from both training and test data using multinomial Naive Bayes Classifier\n",
    "\n",
    "#Step 4a : Build a Vocabulary\n",
    "\n",
    "#Step 4b : Represent each tweet with presence/absence of the relief terms in the tweet"
   ]
  },
  {
   "cell_type": "code",
   "execution_count": null,
   "metadata": {
    "collapsed": true
   },
   "outputs": [],
   "source": [
    "# Step 5: Train the classifier on the training data"
   ]
  },
  {
   "cell_type": "code",
   "execution_count": null,
   "metadata": {
    "collapsed": true
   },
   "outputs": [],
   "source": [
    "# Step 6 : Use the classifier to classify the tweets"
   ]
  },
  {
   "cell_type": "code",
   "execution_count": null,
   "metadata": {
    "collapsed": true
   },
   "outputs": [],
   "source": [
    "# Step 7 : Model Inference & Visualization"
   ]
  }
 ],
 "metadata": {
  "kernelspec": {
   "display_name": "Python 3",
   "language": "python",
   "name": "python3"
  },
  "language_info": {
   "codemirror_mode": {
    "name": "ipython",
    "version": 3
   },
   "file_extension": ".py",
   "mimetype": "text/x-python",
   "name": "python",
   "nbconvert_exporter": "python",
   "pygments_lexer": "ipython3",
   "version": "3.6.0"
  }
 },
 "nbformat": 4,
 "nbformat_minor": 2
}
