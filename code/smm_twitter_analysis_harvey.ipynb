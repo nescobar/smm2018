{
 "cells": [
  {
   "cell_type": "markdown",
   "metadata": {},
   "source": [
    "# Analysis of Hurricane Harvey related tweets during and (long) after impact\n",
    "### Instructions\n",
    "This notebook shows the steps followed to pre-process the data, train and evaluate the different models before fitting and predicting the categories for new tweets in different periods. \n",
    "\n",
    "We make use of the following .pkl files, which are needed to execute the notebook:\n",
    "- training_set.pkl: dataframe created based on the annotated training set\n",
    "- harvey_august_2017.pkl: dataframe created based on Hurricane Harvey tweets from Aug-2017 \n",
    "- harvey_september_2017.pkl: dataframe created based on Hurricane Harvey tweets from Sep-2017 \n",
    "- harvey_oct_dec_2017.pkl: dataframe created based on Hurricane Harvey tweets from Oct. to Dec. 2017 \n",
    "- harvey_january_2018.pkl: dataframe created based on Hurricane Harvey tweets from Jan-2018 \n",
    "- harvey_february_2018.pkl: dataframe created based on Hurricane Harvey tweets from Feb-2018\n",
    "- harvey_march_2018.pkl: dataframe created based on Hurricane Harvey tweets from March-2018\n",
    "- harvey_april_2018.pkl: dataframe created based on Hurricane Harvey tweets from April-2018\n",
    "\n",
    "We have used the following parameters to present the results in our paper (categories evolution over time):\n",
    "- normalization = 'wn_len' # This makes use of WordNet Lemmatizer\n",
    "- ngram_range = (1,2) # This defines the range of the n-gram from 1 to 2\n",
    "\n",
    "The normalization parameter can be adjusted with other methods such as:\n",
    "- 'wn_len' = WordNet Lemmatizer\n",
    "- 'pt_stem' = Porter Stemmer\n",
    "- 'lc_stem' = Lancaster Stemmer\n",
    "\n",
    "To predict the categories of tweets contained in the .pkl files, we decided to use Logistic Regression with SGD to ensure reproducibility of our experiments."
   ]
  },
  {
   "cell_type": "code",
   "execution_count": 10,
   "metadata": {
    "collapsed": true
   },
   "outputs": [],
   "source": [
    "# Import packages\n",
    "import json\n",
    "import re\n",
    "import pandas as pd\n",
    "import numpy as np\n",
    "from sklearn.feature_extraction.text import CountVectorizer\n",
    "from sklearn.feature_extraction.text import TfidfTransformer\n",
    "from sklearn.feature_extraction.text import TfidfVectorizer\n",
    "from TwitterAPI import TwitterAPI\n",
    "from nltk import PorterStemmer, WordNetLemmatizer, LancasterStemmer\n",
    "from nltk.tokenize import word_tokenize\n",
    "from string import punctuation\n",
    "from bs4 import BeautifulSoup\n",
    "from nltk.corpus import stopwords "
   ]
  },
  {
   "cell_type": "code",
   "execution_count": 11,
   "metadata": {
    "collapsed": true
   },
   "outputs": [],
   "source": [
    "class ProcessTweets:\n",
    "    \n",
    "    def __init__(self):\n",
    "        self.normalization = 'wn_lem'\n",
    "        self._stopwords=set(stopwords.words('english')+list(punctuation)+['AT_USER','URL','IMG']\n",
    "                                                                        +['twitter','com','twitter.com','pic','hurricaneharvey','harvey2017','harveyrelief','amp','houston','texas','harvey'])\n",
    "        \n",
    "    def get_data(query=\"\", source=\"file\", path=None, feed=\"search/tweets\",api=None, maxid=0, n=100):\n",
    "        try:\n",
    "            if source == \"file\":\n",
    "                harvey_df = pd.read_csv(path, encoding = 'ISO-8859-1')\n",
    "                return harvey_df\n",
    "        except:\n",
    "            print(\"Error while getting data\")\n",
    "            return None\n",
    "    \n",
    "    def process_tweets(self, list_of_tweets):\n",
    "        processed_tweets=[]\n",
    "        for tweet in list_of_tweets:\n",
    "            processed_tweets.append((self._process_tweet(tweet)))\n",
    "        return processed_tweets\n",
    "    \n",
    "    def set_normalization(self, new_norm):\n",
    "        self.normalization = new_norm\n",
    "    \n",
    "    def _process_tweet(self,tweet):\n",
    "        try:\n",
    "            # 3a. Convert to lower case\n",
    "            tweet = tweet.lower()\n",
    "            # 3b. Replace links with the word URL \n",
    "            tweet = re.sub('((www\\.[^\\s]+)|(https?://[^\\s]+))',' ',tweet) \n",
    "            # 3c. Replace @username with \"AT_USER\"\n",
    "            tweet = re.sub('@[^\\s]+',' ',tweet)                \n",
    "            # 3d. Replace #word with word \n",
    "            tweet = re.sub(r'#([^\\s]+)',r'\\1',tweet)\n",
    "            # 3e. Replace images with the word IMG \n",
    "            tweet = re.sub(r'\\bpic.twitter.com\\s+', ' ', tweet)\n",
    "            # 3f Keep only words with letters\n",
    "            tweet = re.sub('[^a-zA-Z]',' ',tweet)\n",
    "            # 3g. Remove RT\n",
    "            tweet = re.sub(r'\\brt([\\b\\s])', ' ', tweet)\n",
    "            \n",
    "            # Apply Lemmatization\n",
    "            if (self.normalization == 'wn_lem'):\n",
    "                lemmatizer = WordNetLemmatizer() \n",
    "                tweet = [lemmatizer.lemmatize(word) for word in tweet.split() if word not in self._stopwords and len(word)>1]  \n",
    "            elif (self.normalization == 'lc_stem'):\n",
    "                st = LancasterStemmer()\n",
    "                tweet = [st.stem(word) for word in tweet.split() if word not in self._stopwords and len(word)>1]  \n",
    "            elif (self.normalization == 'pt_stem'):\n",
    "                pt = PorterStemmer()\n",
    "                tweet = [pt.stem(word) for word in tweet.split() if word not in self._stopwords and len(word)>1]  \n",
    "            else:\n",
    "                lemmatizer = WordNetLemmatizer() \n",
    "                tweet = [lemmatizer.lemmatize(word) for word in tweet.split() if word not in self._stopwords and len(word)>1]  \n",
    "            \n",
    "            return (\" \".join(tweet)).strip()\n",
    "        \n",
    "        except:\n",
    "            print(\"Error with tweet: \", tweet)\n",
    "            return None"
   ]
  },
  {
   "cell_type": "code",
   "execution_count": 12,
   "metadata": {
    "collapsed": true
   },
   "outputs": [],
   "source": [
    "# Create train DF \n",
    "from sklearn.utils import shuffle\n",
    "import pickle as pkl\n",
    "\n",
    "# pt_stem, wn_lem, lc_stem\n",
    "tweet_processor = ProcessTweets()\n",
    "tweet_processor.set_normalization('wn_lem')\n",
    "train_df = pkl.load(open(\"training_set.pkl\", \"rb\"))\n",
    "train_df['text'] = tweet_processor.process_tweets(train_df['text'])\n",
    "train_df.columns = ['text','target']\n",
    "train_df = shuffle(train_df)"
   ]
  },
  {
   "cell_type": "code",
   "execution_count": 13,
   "metadata": {},
   "outputs": [
    {
     "name": "stdout",
     "output_type": "stream",
     "text": [
      "Multinomial Naive Bayes:  0.929411764706\n",
      "Logistic Regression:  0.956891534392\n",
      "Logistic Regression with SGD:  0.953125088419\n",
      "SVM:  0.940761392692\n",
      "SVM with SGD:  0.964837499837\n",
      "Total running time 0.7214350700378418\n"
     ]
    }
   ],
   "source": [
    "# Testing with different classifiers\n",
    "from sklearn.model_selection import cross_val_score\n",
    "from sklearn.naive_bayes import MultinomialNB\n",
    "from sklearn.linear_model import LogisticRegression\n",
    "from sklearn.linear_model import SGDClassifier\n",
    "from sklearn.svm import SVC\n",
    "from time import time\n",
    "from sklearn.pipeline import Pipeline\n",
    "from sklearn import metrics\n",
    "\n",
    "# Start running time\n",
    "t0 = time()\n",
    "\n",
    "# Build a pipeline that contains vectorizer, transform and classifier\n",
    "\n",
    "ngram_range = (1,2)\n",
    "\n",
    "# Multinomial NB\n",
    "clf = Pipeline([('tfidf', TfidfVectorizer(lowercase=True, stop_words=\"english\", ngram_range=ngram_range)),\n",
    "                 ('clf', MultinomialNB()),\n",
    "                ])\n",
    "scores = cross_val_score(clf, train_df.text, train_df.target, cv=5)\n",
    "print(\"Multinomial Naive Bayes: \", np.mean(scores))\n",
    "\n",
    "# Logistic Regression\n",
    "clf_lr = Pipeline([('tfidf', TfidfVectorizer(lowercase=True, stop_words=\"english\", ngram_range=ngram_range)),\n",
    "                 ('clf', LogisticRegression()),\n",
    "                ])\n",
    "scores = cross_val_score(clf_lr, train_df.text, train_df.target, cv=5, scoring='f1_weighted')\n",
    "print(\"Logistic Regression: \", np.mean(scores))\n",
    "\n",
    "# Logistic Regression with SGD \n",
    "clf_lr_sgd = Pipeline([('tfidf', TfidfVectorizer(lowercase=True, stop_words=\"english\", ngram_range=ngram_range)),\n",
    "                 ('clf', SGDClassifier(loss='log', penalty='l1',\n",
    "                                            alpha=1e-3, random_state=42,\n",
    "                                            max_iter=100, tol=None)),\n",
    "                ])\n",
    "scores = cross_val_score(clf_lr_sgd, train_df.text, train_df.target, cv=5, scoring='f1_weighted')\n",
    "print(\"Logistic Regression with SGD: \", np.mean(scores))\n",
    "\n",
    "# SVM\n",
    "clf = Pipeline([('tfidf', TfidfVectorizer(lowercase=True, stop_words=\"english\", ngram_range=ngram_range)),\n",
    "                 ('clf', SVC()),\n",
    "                ])\n",
    "scores = cross_val_score(clf, train_df.text, train_df.target, cv=5, scoring='f1_weighted')\n",
    "print(\"SVM: \", np.mean(scores))\n",
    "\n",
    "# SVM with SGD (Stochastic Gradient Descent) \n",
    "clf = Pipeline([('tfidf', TfidfVectorizer(lowercase=True, stop_words=\"english\", ngram_range=ngram_range)),\n",
    "                 ('clf', SGDClassifier(loss='hinge', penalty='l1',\n",
    "                                            alpha=1e-3, random_state=42,\n",
    "                                            max_iter=100, tol=None)),\n",
    "                ])\n",
    "scores = cross_val_score(clf, train_df.text, train_df.target, cv=5, scoring='f1_weighted')\n",
    "print(\"SVM with SGD: \", np.mean(scores))\n",
    "\n",
    "# Print running time for training and predicting\n",
    "print('Total running time', time() - t0)"
   ]
  },
  {
   "cell_type": "code",
   "execution_count": 14,
   "metadata": {},
   "outputs": [
    {
     "name": "stdout",
     "output_type": "stream",
     "text": [
      "0.972549019608\n",
      "{'clf__alpha': 0.001, 'clf__class_weight': None, 'clf__fit_intercept': True, 'clf__max_iter': 10, 'clf__penalty': 'elasticnet', 'clf__warm_start': True, 'tfidf__ngram_range': (1, 2)}\n"
     ]
    }
   ],
   "source": [
    "# Parameter tuning with Grid Search\n",
    "from sklearn.model_selection import GridSearchCV\n",
    "\n",
    "parameters = {'tfidf__ngram_range' : [(1,1),(1,2)],\n",
    "             'clf__alpha': (1e-1, 1e-3, 1e-5),\n",
    "             'clf__max_iter': (10,50,100),\n",
    "             'clf__penalty': ('l1','l2','elasticnet'),\n",
    "             'clf__fit_intercept': (True,False),\n",
    "             'clf__class_weight': (None,'balanced'),\n",
    "             'clf__warm_start': (True, False)\n",
    "             }\n",
    "\n",
    "gs_clf = GridSearchCV(clf_lr_sgd, parameters, n_jobs=-1)\n",
    "gs_clf.fit(train_df.text, train_df.target)\n",
    "\n",
    "print(gs_clf.best_score_)\n",
    "print(gs_clf.best_params_)"
   ]
  },
  {
   "cell_type": "code",
   "execution_count": 15,
   "metadata": {},
   "outputs": [
    {
     "name": "stdout",
     "output_type": "stream",
     "text": [
      "File:  harvey_august_2017.pkl\n",
      "Total tweets analyzed: 984\n",
      "Total tweets classified as DONATION: 173 - 17.58%\n",
      "Total tweets classified as RELOCATION: 44 - 4.47%\n",
      "Total tweets classified as VOLUNTEERING: 22 - 4.47%\n",
      "Total tweets classified as NOT CLASSIFIED: 745 - 75.71%\n",
      "**************************************************\n",
      "File:  harvey_september_2017.pkl\n",
      "Total tweets analyzed: 987\n",
      "Total tweets classified as DONATION: 223 - 22.59%\n",
      "Total tweets classified as RELOCATION: 25 - 2.53%\n",
      "Total tweets classified as VOLUNTEERING: 18 - 2.53%\n",
      "Total tweets classified as NOT CLASSIFIED: 721 - 73.05%\n",
      "**************************************************\n",
      "File:  harvey_oct_dec_2017.pkl\n",
      "Total tweets analyzed: 949\n",
      "Total tweets classified as DONATION: 131 - 13.8%\n",
      "Total tweets classified as RELOCATION: 34 - 3.58%\n",
      "Total tweets classified as VOLUNTEERING: 23 - 3.58%\n",
      "Total tweets classified as NOT CLASSIFIED: 761 - 80.19%\n",
      "**************************************************\n",
      "File:  harvey_january_2018.pkl\n",
      "Total tweets analyzed: 985\n",
      "Total tweets classified as DONATION: 133 - 13.5%\n",
      "Total tweets classified as RELOCATION: 36 - 3.65%\n",
      "Total tweets classified as VOLUNTEERING: 34 - 3.65%\n",
      "Total tweets classified as NOT CLASSIFIED: 782 - 79.39%\n",
      "**************************************************\n",
      "File:  harvey_february_2018.pkl\n",
      "Total tweets analyzed: 989\n",
      "Total tweets classified as DONATION: 155 - 15.67%\n",
      "Total tweets classified as RELOCATION: 38 - 3.84%\n",
      "Total tweets classified as VOLUNTEERING: 30 - 3.84%\n",
      "Total tweets classified as NOT CLASSIFIED: 766 - 77.45%\n",
      "**************************************************\n",
      "File:  harvey_march_2018.pkl\n",
      "Total tweets analyzed: 984\n",
      "Total tweets classified as DONATION: 125 - 12.7%\n",
      "Total tweets classified as RELOCATION: 50 - 5.08%\n",
      "Total tweets classified as VOLUNTEERING: 15 - 5.08%\n",
      "Total tweets classified as NOT CLASSIFIED: 794 - 80.69%\n",
      "**************************************************\n",
      "File:  harvey_april_2018.pkl\n",
      "Total tweets analyzed: 935\n",
      "Total tweets classified as DONATION: 114 - 12.19%\n",
      "Total tweets classified as RELOCATION: 36 - 3.85%\n",
      "Total tweets classified as VOLUNTEERING: 38 - 3.85%\n",
      "Total tweets classified as NOT CLASSIFIED: 747 - 79.89%\n",
      "**************************************************\n",
      "Total running time 1.647670030593872\n"
     ]
    }
   ],
   "source": [
    "from time import time\n",
    "from sklearn.pipeline import Pipeline\n",
    "from sklearn import metrics\n",
    "import pickle as pkl\n",
    "import numpy as np\n",
    "\n",
    "# Start running time\n",
    "t0 = time()\n",
    "\n",
    "pkl_files = ['harvey_august_2017.pkl', 'harvey_september_2017.pkl', 'harvey_oct_dec_2017.pkl'\n",
    "            ,'harvey_january_2018.pkl','harvey_february_2018.pkl', 'harvey_march_2018.pkl', \n",
    "             'harvey_april_2018.pkl']\n",
    "\n",
    "#print(clf_lr.classes_)\n",
    "\n",
    "# Fit Logistic Regression with SGD\n",
    "clf_lr_sgd.fit(train_df.text, train_df.target)\n",
    "\n",
    "l_donation_pct = []\n",
    "l_relocation_pct = []\n",
    "l_volunteering_pct = []\n",
    "l_other_pct = []\n",
    "months = ['1', '2', '3', '4','5','6','7']\n",
    "\n",
    "# Loop over each .pkl file\n",
    "for file in pkl_files:\n",
    "    harvey_recent_df = pkl.load(open(file, \"rb\"))\n",
    "    harvey_recent_df.drop_duplicates('text', inplace=True)\n",
    "    harvey_recent_df.text = tweet_processor.process_tweets(harvey_recent_df.text)\n",
    "    predicted = clf_lr_sgd.predict_proba(harvey_recent_df.text)\n",
    "    \n",
    "    c_donation=c_other=c_relocation=c_volunteering=c_na=0\n",
    "    \n",
    "    # Consider only predictions with > 0.5 probability\n",
    "    for tweet, category in zip(harvey_recent_df.text, predicted):\n",
    "        \n",
    "        if category[0] > 0.5:\n",
    "            c_donation += 1\n",
    "        elif category[1] > 0.5:\n",
    "            c_relocation += 1    \n",
    "        elif category[2] > 0.5:\n",
    "            c_volunteering += 1\n",
    "        else:\n",
    "            c_na += 1\n",
    "  \n",
    "    total_tweets = len(harvey_recent_df.text)\n",
    "    \n",
    "    donation_pct = np.around((c_donation/total_tweets)*100,decimals=2)\n",
    "    relocation_pct = np.around((c_relocation/total_tweets)*100,decimals=2)\n",
    "    volunteering_pct = np.around((c_volunteering/total_tweets)*100,decimals=2)\n",
    "    other_pct = np.around((c_na/total_tweets)*100,decimals=2)\n",
    "    \n",
    "    print(\"File: \", file)\n",
    "    print(\"Total tweets analyzed:\", total_tweets)\n",
    "    \n",
    "    l_donation_pct.append(donation_pct)\n",
    "    l_relocation_pct.append(relocation_pct)\n",
    "    l_volunteering_pct.append(volunteering_pct)\n",
    "    l_other_pct.append(other_pct)\n",
    "    \n",
    "    print(\"Total tweets classified as DONATION: {} - {}%\".format(c_donation, donation_pct))\n",
    "    print(\"Total tweets classified as RELOCATION: {} - {}%\".format(c_relocation, relocation_pct))\n",
    "    print(\"Total tweets classified as VOLUNTEERING: {} - {}%\".format(c_volunteering, relocation_pct))\n",
    "    print(\"Total tweets classified as NOT CLASSIFIED: {} - {}%\".format(c_na, other_pct))\n",
    "\n",
    "    print(\"*\"*50)\n",
    "    \n",
    "print('Total running time', time() - t0)"
   ]
  },
  {
   "cell_type": "markdown",
   "metadata": {},
   "source": [
    "# Visualizations"
   ]
  },
  {
   "cell_type": "code",
   "execution_count": 16,
   "metadata": {
    "collapsed": true
   },
   "outputs": [],
   "source": [
    "# Load plot libraries\n",
    "%matplotlib inline\n",
    "import matplotlib.pyplot as plt\n",
    "plt.ioff()"
   ]
  },
  {
   "cell_type": "code",
   "execution_count": 17,
   "metadata": {},
   "outputs": [
    {
     "data": {
      "image/png": "[encoded data removed]",
      "text/plain": [
       "<matplotlib.figure.Figure at 0x1250f5b70>"
      ]
     },
     "metadata": {},
     "output_type": "display_data"
    }
   ],
   "source": [
    "donation_df = pd.DataFrame({'month':months, 'pct':l_donation_pct, 'category':'donation'})\n",
    "relocation_df = pd.DataFrame({'month':months, 'pct':l_relocation_pct, 'category':'relocation'})\n",
    "volunteering_df = pd.DataFrame({'month':months, 'pct':l_volunteering_pct, 'category':'volunteering'})\n",
    "other_df = pd.DataFrame({'month':months, 'pct':l_other_pct, 'category':'other'})\n",
    "\n",
    "categories_df = pd.concat([donation_df,relocation_df,volunteering_df,other_df])\n",
    "\n",
    "plt.title('Evolution of Categories per Period')\n",
    "plt.ylabel('Percentage')\n",
    "plt.xlabel('Period')\n",
    "\n",
    "plt.plot(np.arange(1,8), categories_df[categories_df['category']=='donation']['pct'], linestyle='dashed', marker='o', markerfacecolor='black', markersize=2)\n",
    "plt.plot(np.arange(1,8), categories_df[categories_df['category']=='relocation']['pct'], linestyle='dashed', marker='o', markerfacecolor='black', markersize=2)\n",
    "plt.plot(np.arange(1,8), categories_df[categories_df['category']=='volunteering']['pct'], linestyle='dashed', marker='o', markerfacecolor='black', markersize=2)\n",
    "plt.plot(np.arange(1,8), categories_df[categories_df['category']=='other']['pct'], linestyle='dashed', marker='o', markerfacecolor='black', markersize=2)\n",
    "\n",
    "plt.legend(['Donation', 'Relocation', 'Volunteering', 'Other'], loc='center right')\n",
    "\n",
    "plt.show()"
   ]
  },
  {
   "cell_type": "code",
   "execution_count": 18,
   "metadata": {},
   "outputs": [
    {
     "data": {
      "text/plain": [
       "target\n",
       "donation        85\n",
       "relocation      85\n",
       "volunteering    85\n",
       "dtype: int64"
      ]
     },
     "execution_count": 18,
     "metadata": {},
     "output_type": "execute_result"
    }
   ],
   "source": [
    "train_df.groupby(['target']).size()"
   ]
  },
  {
   "cell_type": "code",
   "execution_count": 19,
   "metadata": {
    "collapsed": true
   },
   "outputs": [],
   "source": [
    "import operator\n",
    "coefs = [] \n",
    "words = []\n",
    "\n",
    "tfidf_vectorizer = TfidfVectorizer(lowercase=True, stop_words=\"english\", ngram_range=(1,2))\n",
    "tfidf_vectorizer.fit_transform(train_df.text)\n",
    "\n",
    "clf_lr_sgd.fit(train_df.text, train_df.target)\n",
    "\n",
    "# Create list of coefficients and words\n",
    "for k,v in tfidf_vectorizer.vocabulary_.items():\n",
    "    coefs.append(clf_lr_sgd.named_steps['clf'].coef_[0][tfidf_vectorizer.vocabulary_[k]])\n",
    "    words.append(k)\n",
    "\n",
    "# Create pairs of (words, coefficients)\n",
    "pairs = []\n",
    "for p in zip(words, coefs): \n",
    "    pairs.append(p)\n",
    "\n",
    "# Sort pairs by coefficient\n",
    "pairs.sort(reverse=True, key=operator.itemgetter(1))\n",
    "\n",
    "top_coef_words = []\n",
    "top_coef_values = []\n",
    "# Print words with highest coefficients \n",
    "for k,v in pairs[:10]:\n",
    "    top_coef_words.append(k)\n",
    "    top_coef_values.append(v)\n",
    "    \n",
    "pairs.sort(reverse=False, key=operator.itemgetter(1))\n",
    "\n",
    "bottom_coef_words = []\n",
    "bottom_coef_values = []\n",
    "# Print words with highest coefficients \n",
    "for k,v in pairs[:10]:\n",
    "    bottom_coef_words.append(k)\n",
    "    bottom_coef_values.append(v)\n",
    "\n",
    "top_coef_df = pd.DataFrame({'words': top_coef_words, 'values': top_coef_values})\n",
    "bottom_coef_df = pd.DataFrame({'words': bottom_coef_words, 'values': bottom_coef_values})"
   ]
  },
  {
   "cell_type": "code",
   "execution_count": 20,
   "metadata": {
    "collapsed": true
   },
   "outputs": [],
   "source": [
    "# Top n-grams in tweets\n",
    "from sklearn.feature_extraction.text import TfidfVectorizer\n",
    "from collections import Counter\n",
    "\n",
    "vect = TfidfVectorizer(ngram_range=(1,2))\n",
    "\n",
    "summaries_donation = \"\".join([tweet for tweet, category in zip(harvey_recent_df.text, predicted) if category[0]>0.5])\n",
    "summaries_relocation = \"\".join([tweet for tweet, category in zip(harvey_recent_df.text, predicted) if category[1]>0.5])\n",
    "summaries_volunteering = \"\".join([tweet for tweet, category in zip(harvey_recent_df.text, predicted) if category[2]>0.5])\n",
    "\n",
    "ngrams_summaries_donation = vect.build_analyzer()(summaries_donation)\n",
    "ngrams_summaries_relocation = vect.build_analyzer()(summaries_relocation)\n",
    "ngrams_summaries_volunteering = vect.build_analyzer()(summaries_volunteering)\n",
    "\n",
    "top20_donation = [ngram for ngram in Counter(ngrams_summaries_donation).most_common(20) ]\n",
    "top20_relocation = [ngram for ngram in Counter(ngrams_summaries_relocation).most_common(20) ]\n",
    "top20_volunteering = [ngram for ngram in Counter(ngrams_summaries_volunteering).most_common(20) ]"
   ]
  },
  {
   "cell_type": "code",
   "execution_count": 21,
   "metadata": {
    "collapsed": true
   },
   "outputs": [],
   "source": [
    "top_words_donation = [x[0] for x in top20_donation]\n",
    "top_frequencies_donation = [x[1] for x in top20_donation]\n",
    "\n",
    "top_words_relocation = [x[0] for x in top20_relocation]\n",
    "top_frequencies_relocation = [x[1] for x in top20_relocation]\n",
    "\n",
    "top_words_volunteering = [x[0] for x in top20_volunteering]\n",
    "top_frequencies_volunteering = [x[1] for x in top20_volunteering]\n",
    "\n",
    "top_words_donation_df = pd.DataFrame({'words':top_words_donation, 'frequencies': top_frequencies_donation})\n",
    "top_words_relocation_df = pd.DataFrame({'words':top_words_relocation, 'frequencies': top_frequencies_relocation})\n",
    "top_words_volunteering_df = pd.DataFrame({'words':top_words_volunteering, 'frequencies': top_frequencies_volunteering})\n"
   ]
  },
  {
   "cell_type": "code",
   "execution_count": 22,
   "metadata": {},
   "outputs": [
    {
     "data": {
      "text/plain": [
       "<matplotlib.figure.Figure at 0x12513ecc0>"
      ]
     },
     "metadata": {},
     "output_type": "display_data"
    },
    {
     "data": {
      "image/png": "[encoded data removed]",
      "text/plain": [
       "<matplotlib.figure.Figure at 0x12513e470>"
      ]
     },
     "metadata": {},
     "output_type": "display_data"
    }
   ],
   "source": [
    "plt.figure(figsize=(50,10))\n",
    "plt.rcParams.update({'font.size': 12})\n",
    "\n",
    "top_words_donation_df.sort_values(['frequencies'], ascending=True, inplace=True)\n",
    "top_words_donation_df.plot('words','frequencies', kind='barh', title='N-gram Frequency for Donation Category', legend=False)\n",
    "\n",
    "plt.show()"
   ]
  },
  {
   "cell_type": "code",
   "execution_count": 23,
   "metadata": {},
   "outputs": [
    {
     "data": {
      "text/plain": [
       "<matplotlib.figure.Figure at 0x1252515c0>"
      ]
     },
     "metadata": {},
     "output_type": "display_data"
    },
    {
     "data": {
      "image/png": "[encoded data removed]",
      "text/plain": [
       "<matplotlib.figure.Figure at 0x1252682e8>"
      ]
     },
     "metadata": {},
     "output_type": "display_data"
    }
   ],
   "source": [
    "plt.figure(figsize=(50,10))\n",
    "plt.rcParams.update({'font.size': 12})\n",
    "\n",
    "top_words_relocation_df.sort_values(['frequencies'], ascending=True, inplace=True)\n",
    "top_words_relocation_df.plot('words','frequencies', kind='barh', title='N-gram Frequency for Relocation Category', legend=False)\n",
    "\n",
    "plt.show()"
   ]
  },
  {
   "cell_type": "code",
   "execution_count": 24,
   "metadata": {},
   "outputs": [
    {
     "data": {
      "text/plain": [
       "<matplotlib.figure.Figure at 0x125430438>"
      ]
     },
     "metadata": {},
     "output_type": "display_data"
    },
    {
     "data": {
      "image/png": "[encoded data removed]",
      "text/plain": [
       "<matplotlib.figure.Figure at 0x125252128>"
      ]
     },
     "metadata": {},
     "output_type": "display_data"
    }
   ],
   "source": [
    "plt.figure(figsize=(50,10))\n",
    "plt.rcParams.update({'font.size': 12})\n",
    "\n",
    "\n",
    "top_words_volunteering_df.sort_values(['frequencies'], ascending=True, inplace=True)\n",
    "top_words_volunteering_df.plot('words','frequencies', kind='barh', title='N-gram Frequency for Volunteering Category', legend=False)\n",
    "\n",
    "plt.show()"
   ]
  },
  {
   "cell_type": "code",
   "execution_count": 25,
   "metadata": {},
   "outputs": [
    {
     "data": {
      "text/plain": [
       "<matplotlib.figure.Figure at 0x1255982e8>"
      ]
     },
     "metadata": {},
     "output_type": "display_data"
    },
    {
     "data": {
      "image/png": "[encoded data removed]",
      "text/plain": [
       "<matplotlib.figure.Figure at 0x125162240>"
      ]
     },
     "metadata": {},
     "output_type": "display_data"
    }
   ],
   "source": [
    "plt.figure(figsize=(50,10))\n",
    "plt.rcParams.update({'font.size': 12})\n",
    "\n",
    "top_coef_df.sort_values(['values'], ascending=True, inplace=True)\n",
    "top_coef_df.plot('words','values', kind='barh', title='Top Coefficients', legend=False)\n",
    "\n",
    "plt.show()"
   ]
  },
  {
   "cell_type": "code",
   "execution_count": 26,
   "metadata": {},
   "outputs": [
    {
     "data": {
      "text/plain": [
       "<matplotlib.figure.Figure at 0x1255caf98>"
      ]
     },
     "metadata": {},
     "output_type": "display_data"
    },
    {
     "data": {
      "image/png": "[encoded data removed]",
      "text/plain": [
       "<matplotlib.figure.Figure at 0x1255ecac8>"
      ]
     },
     "metadata": {},
     "output_type": "display_data"
    }
   ],
   "source": [
    "plt.figure(figsize=(50,10))\n",
    "plt.rcParams.update({'font.size': 12})\n",
    "\n",
    "bottom_coef_df.sort_values(['values'], ascending=False, inplace=True)\n",
    "bottom_coef_df.plot('words','values', kind='barh', title='Bottom Coefficients', legend=False)\n",
    "\n",
    "plt.show()"
   ]
  },
  {
   "cell_type": "code",
   "execution_count": null,
   "metadata": {
    "collapsed": true
   },
   "outputs": [],
   "source": []
  }
 ],
 "metadata": {
  "kernelspec": {
   "display_name": "Python 3",
   "language": "python",
   "name": "python3"
  },
  "language_info": {
   "codemirror_mode": {
    "name": "ipython",
    "version": 3
   },
   "file_extension": ".py",
   "mimetype": "text/x-python",
   "name": "python",
   "nbconvert_exporter": "python",
   "pygments_lexer": "ipython3",
   "version": "3.6.1"
  }
 },
 "nbformat": 4,
 "nbformat_minor": 2
}
