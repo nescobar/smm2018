{
 "cells": [
  {
   "cell_type": "code",
   "execution_count": 2,
   "metadata": {
    "collapsed": true
   },
   "outputs": [],
   "source": [
    "import pandas as pd"
   ]
  },
  {
   "cell_type": "code",
   "execution_count": 3,
   "metadata": {
    "collapsed": true
   },
   "outputs": [],
   "source": [
    "# Files to merge\n",
    "blood_file = \"/Users/nescobar/Dropbox/Indiana/Social_Media_Mining/Project/smm2018/data/raw/csv/filter_tweets_blood_bigram.csv\"\n",
    "clothes_file = \"/Users/nescobar/Dropbox/Indiana/Social_Media_Mining/Project/smm2018/data/raw/csv/filter_tweets_clothes_bigram.csv\"\n",
    "clothes_file = \"/Users/nescobar/Dropbox/Indiana/Social_Media_Mining/Project/smm2018/data/raw/csv/filter_tweets_displaced_bigram.csv\"\n",
    "donation_file = \"/Users/nescobar/Dropbox/Indiana/Social_Media_Mining/Project/smm2018/data/raw/csv/filter_tweets_donation_bigram.csv\"\n",
    "food_file = \"/Users/nescobar/Dropbox/Indiana/Social_Media_Mining/Project/smm2018/data/raw/csv/filter_tweets_food_bigram.csv\"\n",
    "money_file = \"/Users/nescobar/Dropbox/Indiana/Social_Media_Mining/Project/smm2018/data/raw/csv/filter_tweets_money_bigram.csv\"\n",
    "shelter_file = \"/Users/nescobar/Dropbox/Indiana/Social_Media_Mining/Project/smm2018/data/raw/csv/filter_tweets_shelter_bigram.csv\"\n",
    "transportation_file = \"/Users/nescobar/Dropbox/Indiana/Social_Media_Mining/Project/smm2018/data/raw/csv/filter_tweets_transportations_bigram.csv\"\n",
    "transportation_file = \"/Users/nescobar/Dropbox/Indiana/Social_Media_Mining/Project/smm2018/data/raw/csv/filter_tweets_volunteers.csv\""
   ]
  },
  {
   "cell_type": "code",
   "execution_count": 4,
   "metadata": {
    "collapsed": true
   },
   "outputs": [],
   "source": [
    "# Dataframes to merge\n",
    "blood_df = pd.read_csv(blood_file, encoding = 'ISO-8859-1')\n",
    "clothes_df = pd.read_csv(clothes_file, encoding = 'ISO-8859-1')\n",
    "displaced_df = pd.read_csv(clothes_file, encoding = 'ISO-8859-1')\n",
    "donation_df = pd.read_csv(donation_file, encoding = 'ISO-8859-1')\n",
    "food_df = pd.read_csv(food_file, encoding = 'ISO-8859-1')\n",
    "money_df = pd.read_csv(money_file, encoding = 'ISO-8859-1')\n",
    "shelter_df = pd.read_csv(shelter_file, encoding = 'ISO-8859-1')\n",
    "transportation_df = pd.read_csv(transportation_file, encoding = 'ISO-8859-1')\n",
    "volunteer_df = pd.read_csv(transportation_file, encoding = 'ISO-8859-1')"
   ]
  },
  {
   "cell_type": "code",
   "execution_count": 5,
   "metadata": {
    "collapsed": true
   },
   "outputs": [],
   "source": [
    "# Merge all data frames into one\n",
    "tweets_all = pd.concat([blood_df, clothes_df, displaced_df, donation_df, food_df, money_df, shelter_df, transportation_df, volunteer_df])"
   ]
  },
  {
   "cell_type": "code",
   "execution_count": 7,
   "metadata": {},
   "outputs": [],
   "source": [
    "# Drop unused column\n",
    "tweets_all.drop('Unnamed: 0', 1, inplace=True)"
   ]
  },
  {
   "cell_type": "code",
   "execution_count": 11,
   "metadata": {},
   "outputs": [],
   "source": [
    "# Take random tweets\n",
    "common_random = tweets_all.sample(50, replace=True)\n",
    "jay_random = tweets_all.sample(100, replace=True)\n",
    "varun_random = tweets_all.sample(100, replace=True)\n",
    "nicolas_random = tweets_all.sample(100, replace=True)"
   ]
  },
  {
   "cell_type": "code",
   "execution_count": 12,
   "metadata": {
    "collapsed": true
   },
   "outputs": [],
   "source": [
    "# Write back to files\n",
    "common_file = \"/Users/nescobar/Dropbox/Indiana/Social_Media_Mining/Project/smm2018/data/raw/csv/common_random.csv\"\n",
    "common_random.to_csv(common_file, encoding = 'ISO-8859-1')\n",
    "\n",
    "jay_file = \"/Users/nescobar/Dropbox/Indiana/Social_Media_Mining/Project/smm2018/data/raw/csv/jay_random.csv\"\n",
    "jay_random.to_csv(jay_file, encoding = 'ISO-8859-1')\n",
    "\n",
    "varun_file = \"/Users/nescobar/Dropbox/Indiana/Social_Media_Mining/Project/smm2018/data/raw/csv/varun_random.csv\"\n",
    "varun_random.to_csv(varun_file, encoding = 'ISO-8859-1')\n",
    "\n",
    "nicolas_file = \"/Users/nescobar/Dropbox/Indiana/Social_Media_Mining/Project/smm2018/data/raw/csv/nicolas_random.csv\"\n",
    "nicolas_random.to_csv(nicolas_file, encoding = 'ISO-8859-1')\n"
   ]
  },
  {
   "cell_type": "code",
   "execution_count": null,
   "metadata": {
    "collapsed": true
   },
   "outputs": [],
   "source": []
  }
 ],
 "metadata": {
  "kernelspec": {
   "display_name": "Python 3",
   "language": "python",
   "name": "python3"
  },
  "language_info": {
   "codemirror_mode": {
    "name": "ipython",
    "version": 3
   },
   "file_extension": ".py",
   "mimetype": "text/x-python",
   "name": "python",
   "nbconvert_exporter": "python",
   "pygments_lexer": "ipython3",
   "version": "3.6.1"
  }
 },
 "nbformat": 4,
 "nbformat_minor": 2
}
