{
 "cells": [
  {
   "cell_type": "code",
   "execution_count": 75,
   "metadata": {
    "collapsed": true
   },
   "outputs": [],
   "source": [
    "# Import libraries\n",
    "import pandas as pd\n",
    "import numpy as np\n",
    "from datetime import date\n",
    "import nltk\n",
    "import html\n",
    "import re\n",
    "from nltk.corpus import stopwords\n",
    "#from nltk.stem.snowball import SnowballStemmer\n",
    "from nltk.stem import WordNetLemmatizer\n",
    "%matplotlib inline"
   ]
  },
  {
   "cell_type": "code",
   "execution_count": 2,
   "metadata": {},
   "outputs": [
    {
     "data": {
      "text/html": [
       "<div>\n",
       "<style>\n",
       "    .dataframe thead tr:only-child th {\n",
       "        text-align: right;\n",
       "    }\n",
       "\n",
       "    .dataframe thead th {\n",
       "        text-align: left;\n",
       "    }\n",
       "\n",
       "    .dataframe tbody tr th {\n",
       "        vertical-align: top;\n",
       "    }\n",
       "</style>\n",
       "<table border=\"1\" class=\"dataframe\">\n",
       "  <thead>\n",
       "    <tr style=\"text-align: right;\">\n",
       "      <th></th>\n",
       "      <th>col_id</th>\n",
       "      <th>id</th>\n",
       "      <th>likes</th>\n",
       "      <th>replies</th>\n",
       "      <th>retweets</th>\n",
       "      <th>time</th>\n",
       "      <th>tweet</th>\n",
       "    </tr>\n",
       "  </thead>\n",
       "  <tbody>\n",
       "    <tr>\n",
       "      <th>0</th>\n",
       "      <td>0.0</td>\n",
       "      <td>9.010000e+17</td>\n",
       "      <td>3.0</td>\n",
       "      <td>0.0</td>\n",
       "      <td>0.0</td>\n",
       "      <td>8/25/2017 14:44</td>\n",
       "      <td>If you do decide to drive in for #ColdplayHous...</td>\n",
       "    </tr>\n",
       "    <tr>\n",
       "      <th>1</th>\n",
       "      <td>1.0</td>\n",
       "      <td>9.010000e+17</td>\n",
       "      <td>0.0</td>\n",
       "      <td>0.0</td>\n",
       "      <td>0.0</td>\n",
       "      <td>8/25/2017 14:44</td>\n",
       "      <td>As Hurricane Harvey is fast approaching, now i...</td>\n",
       "    </tr>\n",
       "    <tr>\n",
       "      <th>2</th>\n",
       "      <td>2.0</td>\n",
       "      <td>9.010000e+17</td>\n",
       "      <td>6.0</td>\n",
       "      <td>0.0</td>\n",
       "      <td>1.0</td>\n",
       "      <td>8/25/2017 14:44</td>\n",
       "      <td>Is @JerryJordan_KTT providing live #HurricaneH...</td>\n",
       "    </tr>\n",
       "    <tr>\n",
       "      <th>3</th>\n",
       "      <td>3.0</td>\n",
       "      <td>9.010000e+17</td>\n",
       "      <td>0.0</td>\n",
       "      <td>0.0</td>\n",
       "      <td>0.0</td>\n",
       "      <td>8/25/2017 14:44</td>\n",
       "      <td>I'm waiting for a Steve Harvey Hurricane meme</td>\n",
       "    </tr>\n",
       "    <tr>\n",
       "      <th>4</th>\n",
       "      <td>4.0</td>\n",
       "      <td>9.010000e+17</td>\n",
       "      <td>0.0</td>\n",
       "      <td>0.0</td>\n",
       "      <td>0.0</td>\n",
       "      <td>8/25/2017 14:44</td>\n",
       "      <td>The name of the hurricane is Harvey ... Steve ...</td>\n",
       "    </tr>\n",
       "  </tbody>\n",
       "</table>\n",
       "</div>"
      ],
      "text/plain": [
       "   col_id            id  likes  replies  retweets             time  \\\n",
       "0     0.0  9.010000e+17    3.0      0.0       0.0  8/25/2017 14:44   \n",
       "1     1.0  9.010000e+17    0.0      0.0       0.0  8/25/2017 14:44   \n",
       "2     2.0  9.010000e+17    6.0      0.0       1.0  8/25/2017 14:44   \n",
       "3     3.0  9.010000e+17    0.0      0.0       0.0  8/25/2017 14:44   \n",
       "4     4.0  9.010000e+17    0.0      0.0       0.0  8/25/2017 14:44   \n",
       "\n",
       "                                               tweet  \n",
       "0  If you do decide to drive in for #ColdplayHous...  \n",
       "1  As Hurricane Harvey is fast approaching, now i...  \n",
       "2  Is @JerryJordan_KTT providing live #HurricaneH...  \n",
       "3      I'm waiting for a Steve Harvey Hurricane meme  \n",
       "4  The name of the hurricane is Harvey ... Steve ...  "
      ]
     },
     "execution_count": 2,
     "metadata": {},
     "output_type": "execute_result"
    }
   ],
   "source": [
    "# Path to training data\n",
    "data_file = \"/Users/nescobar/Dropbox/Indiana/Social_Media_Mining/Project/smm2018/data/raw/Hurricane_Harvey.csv\"\n",
    "\n",
    "# Load CSV file\n",
    "harvey_df = pd.read_csv(data_file, encoding = 'ISO-8859-1')\n",
    "harvey_df.columns = ['col_id','id','likes','replies','retweets','time','tweet']"
   ]
  },
  {
   "cell_type": "code",
   "execution_count": 3,
   "metadata": {
    "collapsed": true
   },
   "outputs": [],
   "source": [
    "# Remove N/A values\n",
    "harvey_df['time'].fillna(0, inplace=True)"
   ]
  },
  {
   "cell_type": "code",
   "execution_count": 4,
   "metadata": {
    "collapsed": true
   },
   "outputs": [],
   "source": [
    "# Add date, year and day after harvey columns\n",
    "harvey_df['time_dt'] = pd.to_datetime(harvey_df['time'])\n",
    "harvey_df['year'] = harvey_df['time_dt'].dt.year\n",
    "harvey_df['month'] = harvey_df['time_dt'].dt.month\n",
    "harvey_df['day'] = harvey_df['time_dt'].dt.day\n",
    "harvey_df['hour'] = harvey_df['time_dt'].dt.hour\n",
    "harvey_df['date'] = harvey_df['time_dt'].dt.date"
   ]
  },
  {
   "cell_type": "code",
   "execution_count": 5,
   "metadata": {
    "collapsed": true
   },
   "outputs": [],
   "source": [
    "start_date = date(2017, 8, 25)\n",
    "harvey_df['days_from_start'] = harvey_df['date']-start_date"
   ]
  },
  {
   "cell_type": "code",
   "execution_count": 105,
   "metadata": {},
   "outputs": [],
   "source": [
    "# Returns list of cleaned words for each tweet\n",
    "def clean_tweet(tweet):\n",
    "    \n",
    "    # Dictionary with regular expression patterns\n",
    "    dict_patterns = {\"[,]\" : \"\",    # Remove punctuations\n",
    "                \"http\\S+\" : \"URL\",     # Replace URLs with URL\n",
    "                 \"@\\S+\" : \"atuser\",       # Replace usernames with atuser\n",
    "                 \"pic.twitter.com\\S+\" : \"IMAGE\",  # Replace pics with IMAGE\n",
    "                 \"/^RT$/\" : \"\", # Remove RT\n",
    "                 \"[^a-zA-Z]\" : \" \", # Keep only words with letters\n",
    "                    }\n",
    "    \n",
    "    # Load stopwords\n",
    "    stop = stopwords.words('english')\n",
    "    \n",
    "    # Unescape HTML\n",
    "    tweet = html.unescape(tweet)\n",
    "    print(tweet)\n",
    "    # Apply regular expression patterns\n",
    "    for k, v in dict_patterns.items():\n",
    "        pattern = re.compile(k)\n",
    "        tweet = re.sub(pattern, v, tweet)\n",
    "    \n",
    "    # Sets to lowercase\n",
    "    tweet_lower = tweet.lower()\n",
    "    \n",
    "    # Tokenize tweet\n",
    "    tweet_tokens = nltk.tokenize.word_tokenize(tweet_lower)\n",
    "    \n",
    "    # Apply stemming\n",
    "    # stemmer = SnowballStemmer(\"english\")\n",
    "    \n",
    "    # Apply Lemmatization\n",
    "    lemmatizer = WordNetLemmatizer()\n",
    "    \n",
    "    # Exclude stop words\n",
    "    tweet_relevant = [lemmatizer.lemmatize(s) for s in tweet_tokens if not s in stop]\n",
    "    \n",
    "    return tweet_relevant"
   ]
  },
  {
   "cell_type": "code",
   "execution_count": 117,
   "metadata": {},
   "outputs": [
    {
     "name": "stdout",
     "output_type": "stream",
     "text": [
      "Hurricane Harvey strengthened to a Category 4 storm before making landfall near the coast of Texas. http://fb.me/8ZjlzLdHz \n",
      "['hurricane', 'harvey', 'strengthened', 'category', 'storm', 'making', 'landfall', 'near', 'coast', 'texas', 'url']\n"
     ]
    }
   ],
   "source": [
    "tweet = clean_tweet(harvey_df['tweet'][120332])\n",
    "print(tweet)"
   ]
  },
  {
   "cell_type": "code",
   "execution_count": null,
   "metadata": {
    "collapsed": true
   },
   "outputs": [],
   "source": []
  }
 ],
 "metadata": {
  "kernelspec": {
   "display_name": "Python 3",
   "language": "python",
   "name": "python3"
  },
  "language_info": {
   "codemirror_mode": {
    "name": "ipython",
    "version": 3
   },
   "file_extension": ".py",
   "mimetype": "text/x-python",
   "name": "python",
   "nbconvert_exporter": "python",
   "pygments_lexer": "ipython3",
   "version": "3.6.1"
  }
 },
 "nbformat": 4,
 "nbformat_minor": 2
}
